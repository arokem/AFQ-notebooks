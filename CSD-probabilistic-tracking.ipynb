{
 "cells": [
  {
   "cell_type": "code",
   "execution_count": 1,
   "metadata": {
    "collapsed": false
   },
   "outputs": [
    {
     "name": "stdout",
     "output_type": "stream",
     "text": [
      "Dataset is already in place. If you want to fetch it again please first remove the folder /Users/arokem/.dipy/stanford_hardi \n",
      "All files already in /Users/arokem/.dipy/stanford_hardi.\n"
     ]
    }
   ],
   "source": [
    "from dipy.data import read_stanford_labels\n",
    "from dipy.reconst.csdeconv import ConstrainedSphericalDeconvModel\n",
    "from dipy.tracking import utils\n",
    "from dipy.tracking.local import (ThresholdTissueClassifier, LocalTracking)\n",
    "hardi_img, gtab, labels_img = read_stanford_labels()\n",
    "data = hardi_img.get_data()\n",
    "labels = labels_img.get_data()\n",
    "affine = hardi_img.get_affine()\n",
    "\n",
    "white_matter = (labels == 1) | (labels == 2)\n",
    "csd_model = ConstrainedSphericalDeconvModel(gtab, None, sh_order=6)\n",
    "csd_fit = csd_model.fit(data, mask=white_matter)"
   ]
  },
  {
   "cell_type": "code",
   "execution_count": 2,
   "metadata": {
    "collapsed": true
   },
   "outputs": [],
   "source": [
    "from dipy.reconst.shm import CsaOdfModel\n",
    "\n",
    "csa_model = CsaOdfModel(gtab, sh_order=6)\n",
    "gfa = csa_model.fit(data, mask=white_matter).gfa\n",
    "classifier = ThresholdTissueClassifier(gfa, .25)"
   ]
  },
  {
   "cell_type": "code",
   "execution_count": 3,
   "metadata": {
    "collapsed": true
   },
   "outputs": [],
   "source": [
    "from dipy.direction import ProbabilisticDirectionGetter\n",
    "from dipy.data import default_sphere\n",
    "from dipy.io.trackvis import save_trk\n",
    "\n",
    "prob_dg = ProbabilisticDirectionGetter.from_shcoeff(csd_fit.shm_coeff,\n",
    "                                                    max_angle=30.,\n",
    "                                                    sphere=default_sphere)"
   ]
  },
  {
   "cell_type": "code",
   "execution_count": 4,
   "metadata": {
    "collapsed": true
   },
   "outputs": [],
   "source": [
    "seeds = utils.seeds_from_mask(white_matter, density=[2, 2, 2], affine=affine)\n",
    "streamlines = LocalTracking(prob_dg, classifier, seeds, affine, step_size=.5)\n",
    "save_trk(\"./probabilistic_shm_coeff.trk\", streamlines, affine, labels.shape)"
   ]
  },
  {
   "cell_type": "code",
   "execution_count": null,
   "metadata": {
    "collapsed": true
   },
   "outputs": [],
   "source": []
  }
 ],
 "metadata": {
  "kernelspec": {
   "display_name": "Python 2",
   "language": "python",
   "name": "python2"
  },
  "language_info": {
   "codemirror_mode": {
    "name": "ipython",
    "version": 2
   },
   "file_extension": ".py",
   "mimetype": "text/x-python",
   "name": "python",
   "nbconvert_exporter": "python",
   "pygments_lexer": "ipython2",
   "version": "2.7.10"
  }
 },
 "nbformat": 4,
 "nbformat_minor": 0
}
