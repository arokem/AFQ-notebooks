{
 "cells": [
  {
   "cell_type": "code",
   "execution_count": 1,
   "metadata": {
    "collapsed": false
   },
   "outputs": [],
   "source": [
    "import os.path as op\n",
    "import time\n",
    "import numpy as np\n",
    "import matplotlib as mpl\n",
    "import matplotlib.cm as cm\n",
    "import matplotlib.pyplot as plt\n",
    "import tools\n",
    "from imp import reload\n",
    "reload(tools)\n",
    "from tools import syn_registration, affine_registration\n",
    "%matplotlib inline\n",
    "\n",
    "\n",
    "import dipy.tracking.streamline as dts\n",
    "import dipy.tracking.utils as dtu\n",
    "import dipy.data as dpd"
   ]
  },
  {
   "cell_type": "code",
   "execution_count": 2,
   "metadata": {
    "collapsed": true
   },
   "outputs": [],
   "source": [
    "import nibabel as nib\n",
    "import dipy.data as dpd\n",
    "import os"
   ]
  },
  {
   "cell_type": "code",
   "execution_count": 3,
   "metadata": {
    "collapsed": false
   },
   "outputs": [],
   "source": [
    "afqpath = '/Users/arokem/source/AFQ/'\n",
    "# afqpath = '/home/jyeatman/git/afq'"
   ]
  },
  {
   "cell_type": "code",
   "execution_count": 4,
   "metadata": {
    "collapsed": false
   },
   "outputs": [
    {
     "name": "stdout",
     "output_type": "stream",
     "text": [
      "Dataset is already in place. If you want to fetch it again please first remove the folder /Users/arokem/.dipy/stanford_hardi \n"
     ]
    }
   ],
   "source": [
    "ni, gtab = dpd.read_stanford_hardi()"
   ]
  },
  {
   "cell_type": "code",
   "execution_count": 5,
   "metadata": {
    "collapsed": false
   },
   "outputs": [],
   "source": [
    "hardi_data = ni.get_data()\n",
    "hardi_affine = ni.get_affine()"
   ]
  },
  {
   "cell_type": "code",
   "execution_count": 6,
   "metadata": {
    "collapsed": true
   },
   "outputs": [],
   "source": [
    "b0 = hardi_data[..., gtab.b0s_mask]"
   ]
  },
  {
   "cell_type": "code",
   "execution_count": 7,
   "metadata": {
    "collapsed": false
   },
   "outputs": [],
   "source": [
    "mean_b0 = np.mean(b0, -1)"
   ]
  },
  {
   "cell_type": "code",
   "execution_count": 8,
   "metadata": {
    "collapsed": true
   },
   "outputs": [],
   "source": [
    "ni_b0 = nib.Nifti1Image(mean_b0, hardi_affine)"
   ]
  },
  {
   "cell_type": "code",
   "execution_count": 9,
   "metadata": {
    "collapsed": true
   },
   "outputs": [],
   "source": [
    "ni_b0.to_filename('mean_b0.nii')"
   ]
  },
  {
   "cell_type": "code",
   "execution_count": 10,
   "metadata": {
    "collapsed": false
   },
   "outputs": [
    {
     "data": {
      "text/plain": [
       "<matplotlib.image.AxesImage at 0x1197c3e50>"
      ]
     },
     "execution_count": 10,
     "metadata": {},
     "output_type": "execute_result"
    },
    {
     "data": {
      "image/png": "[encoded data removed]",
      "text/plain": [
       "<matplotlib.figure.Figure at 0x10b049210>"
      ]
     },
     "metadata": {},
     "output_type": "display_data"
    }
   ],
   "source": [
    "plt.matshow(mean_b0[:,:,mean_b0.shape[-1]//2], cmap=cm.bone)"
   ]
  },
  {
   "cell_type": "code",
   "execution_count": 11,
   "metadata": {
    "collapsed": false
   },
   "outputs": [
    {
     "name": "stdout",
     "output_type": "stream",
     "text": [
      "Data size is approximately 35MB\n",
      "Dataset is already in place. If you want to fetch it again please first remove the folder /Users/arokem/.dipy/mni_template \n"
     ]
    },
    {
     "data": {
      "text/plain": [
       "({'COPYING': ('https://digital.lib.washington.edu/researchworks/bitstream/handle/1773/33312/COPYING',\n",
       "   '6e2168072e80aa4c0c20f1e6e52ec0c8'),\n",
       "  'mni_icbm152_t1_tal_nlin_asym_09a.nii': ('https://digital.lib.washington.edu/researchworks/bitstream/handle/1773/33312/mni_icbm152_t1_tal_nlin_asym_09a.nii',\n",
       "   '1ea8f4f1e41bc17a94602e48141fdbc8'),\n",
       "  'mni_icbm152_t2_tal_nlin_asym_09a.nii': ('https://digital.lib.washington.edu/researchworks/bitstream/handle/1773/33312/mni_icbm152_t2_tal_nlin_asym_09a.nii',\n",
       "   'f41f2e1516d880547fbf7d6a83884f0d')},\n",
       " '/Users/arokem/.dipy/mni_template')"
      ]
     },
     "execution_count": 11,
     "metadata": {},
     "output_type": "execute_result"
    }
   ],
   "source": [
    "dpd.fetch_mni_template()"
   ]
  },
  {
   "cell_type": "code",
   "execution_count": 12,
   "metadata": {
    "collapsed": false
   },
   "outputs": [
    {
     "name": "stdout",
     "output_type": "stream",
     "text": [
      "Data size is approximately 35MB\n",
      "Dataset is already in place. If you want to fetch it again please first remove the folder /Users/arokem/.dipy/mni_template \n"
     ]
    }
   ],
   "source": [
    "MNI_T2 = dpd.read_mni_template()"
   ]
  },
  {
   "cell_type": "code",
   "execution_count": 13,
   "metadata": {
    "collapsed": false
   },
   "outputs": [],
   "source": [
    "MNI_T2_data = MNI_T2.get_data()"
   ]
  },
  {
   "cell_type": "code",
   "execution_count": 14,
   "metadata": {
    "collapsed": true
   },
   "outputs": [],
   "source": [
    "MNI_T2_affine = MNI_T2.get_affine()"
   ]
  },
  {
   "cell_type": "code",
   "execution_count": 15,
   "metadata": {
    "collapsed": false
   },
   "outputs": [],
   "source": [
    "#xformed_b0, affine = affine_registration(mean_b0, MNI_T2_data, \n",
    "#                                         moving_grid2world=hardi_affine, \n",
    "#                                         static_grid2world=MNI_T2_affine)"
   ]
  },
  {
   "cell_type": "code",
   "execution_count": 16,
   "metadata": {
    "collapsed": false
   },
   "outputs": [],
   "source": [
    "#plt.matshow(xformed_b0[:, :, xformed_b0.shape[-1]//2], cmap=cm.bone)\n",
    "#plt.matshow(MNI_T2_data[:, :, MNI_T2_data.shape[-1]//2], cmap=cm.bone)"
   ]
  },
  {
   "cell_type": "code",
   "execution_count": 17,
   "metadata": {
    "collapsed": false
   },
   "outputs": [
    {
     "name": "stdout",
     "output_type": "stream",
     "text": [
      "Creating scale space from the moving image. Levels: 3. Sigma factor: 0.200000.\n",
      "Creating scale space from the static image. Levels: 3. Sigma factor: 0.200000.\n",
      "Optimizing level 2\n",
      "Optimizing level 1\n",
      "Optimizing level 0\n"
     ]
    }
   ],
   "source": [
    "warped_b0, mapping = syn_registration(mean_b0, MNI_T2_data,\n",
    "                                      moving_grid2world=hardi_affine, \n",
    "                                      static_grid2world=MNI_T2_affine, \n",
    "                                      #step_length=0.1,\n",
    "                                      #sigma_diff=2.0,\n",
    "                                      metric='CC', dim=3, level_iters = [10, 10, 5], \n",
    "                                      #prealign=affine.affine)\n",
    "                                      prealign=None)"
   ]
  },
  {
   "cell_type": "code",
   "execution_count": 18,
   "metadata": {
    "collapsed": false
   },
   "outputs": [
    {
     "data": {
      "text/plain": [
       "<matplotlib.image.AxesImage at 0x1177d2710>"
      ]
     },
     "execution_count": 18,
     "metadata": {},
     "output_type": "execute_result"
    },
    {
     "data": {
      "image/png": "[encoded data removed]",
      "text/plain": [
       "<matplotlib.figure.Figure at 0x119785710>"
      ]
     },
     "metadata": {},
     "output_type": "display_data"
    },
    {
     "data": {
      "image/png": "[encoded data removed]",
      "text/plain": [
       "<matplotlib.figure.Figure at 0x119785690>"
      ]
     },
     "metadata": {},
     "output_type": "display_data"
    }
   ],
   "source": [
    "plt.matshow(warped_b0[:,:,warped_b0.shape[-1]//2], cmap=cm.bone)\n",
    "plt.matshow(MNI_T2_data[:, :, MNI_T2_data.shape[-1]//2], cmap=cm.bone)"
   ]
  },
  {
   "cell_type": "code",
   "execution_count": 19,
   "metadata": {
    "collapsed": true
   },
   "outputs": [],
   "source": [
    "new_ni = nib.Nifti1Image(warped_b0, MNI_T2_affine)"
   ]
  },
  {
   "cell_type": "code",
   "execution_count": 20,
   "metadata": {
    "collapsed": true
   },
   "outputs": [],
   "source": [
    "new_ni.to_filename('./warped_b0.nii.gz')"
   ]
  },
  {
   "cell_type": "code",
   "execution_count": 21,
   "metadata": {
    "collapsed": false
   },
   "outputs": [],
   "source": [
    "LOCC_ni = nib.load(os.path.join(afqpath,'templates/callosum2/L_Occipital.nii.gz'))\n",
    "ROCC_ni = nib.load(os.path.join(afqpath,'templates/callosum2/R_Occipital.nii.gz'))\n",
    "midsag_ni = nib.load(os.path.join(afqpath,'templates/callosum2/Callosum_midsag.nii.gz'))"
   ]
  },
  {
   "cell_type": "code",
   "execution_count": 22,
   "metadata": {
    "collapsed": true
   },
   "outputs": [],
   "source": [
    "LOCC_data = LOCC_ni.get_data()\n",
    "ROCC_data = ROCC_ni.get_data()\n",
    "midsag_data = midsag_ni.get_data()"
   ]
  },
  {
   "cell_type": "code",
   "execution_count": 23,
   "metadata": {
    "collapsed": true
   },
   "outputs": [],
   "source": [
    "import scipy.ndimage as ndim"
   ]
  },
  {
   "cell_type": "code",
   "execution_count": 24,
   "metadata": {
    "collapsed": false
   },
   "outputs": [],
   "source": [
    "dilated_midsag = ndim.binary_dilation(midsag_data)"
   ]
  },
  {
   "cell_type": "code",
   "execution_count": 25,
   "metadata": {
    "collapsed": true
   },
   "outputs": [],
   "source": [
    "midsag_affine = midsag_ni.get_affine()"
   ]
  },
  {
   "cell_type": "code",
   "execution_count": 26,
   "metadata": {
    "collapsed": false
   },
   "outputs": [],
   "source": [
    "#warped_midsag = mapping.transform_inverse(midsag_data)"
   ]
  },
  {
   "cell_type": "code",
   "execution_count": 27,
   "metadata": {
    "collapsed": false
   },
   "outputs": [
    {
     "data": {
      "text/plain": [
       "array([[[0, 0, 0, ..., 0, 0, 0],\n",
       "        [0, 0, 0, ..., 0, 0, 0],\n",
       "        [0, 0, 0, ..., 0, 0, 0],\n",
       "        ..., \n",
       "        [0, 0, 0, ..., 0, 0, 0],\n",
       "        [0, 0, 0, ..., 0, 0, 0],\n",
       "        [0, 0, 0, ..., 0, 0, 0]],\n",
       "\n",
       "       [[0, 0, 0, ..., 0, 0, 0],\n",
       "        [0, 0, 0, ..., 0, 0, 0],\n",
       "        [0, 0, 0, ..., 0, 0, 0],\n",
       "        ..., \n",
       "        [0, 0, 0, ..., 0, 0, 0],\n",
       "        [0, 0, 0, ..., 0, 0, 0],\n",
       "        [0, 0, 0, ..., 0, 0, 0]],\n",
       "\n",
       "       [[0, 0, 0, ..., 0, 0, 0],\n",
       "        [0, 0, 0, ..., 0, 0, 0],\n",
       "        [0, 0, 0, ..., 0, 0, 0],\n",
       "        ..., \n",
       "        [0, 0, 0, ..., 0, 0, 0],\n",
       "        [0, 0, 0, ..., 0, 0, 0],\n",
       "        [0, 0, 0, ..., 0, 0, 0]],\n",
       "\n",
       "       ..., \n",
       "       [[0, 0, 0, ..., 0, 0, 0],\n",
       "        [0, 0, 0, ..., 0, 0, 0],\n",
       "        [0, 0, 0, ..., 0, 0, 0],\n",
       "        ..., \n",
       "        [0, 0, 0, ..., 0, 0, 0],\n",
       "        [0, 0, 0, ..., 0, 0, 0],\n",
       "        [0, 0, 0, ..., 0, 0, 0]],\n",
       "\n",
       "       [[0, 0, 0, ..., 0, 0, 0],\n",
       "        [0, 0, 0, ..., 0, 0, 0],\n",
       "        [0, 0, 0, ..., 0, 0, 0],\n",
       "        ..., \n",
       "        [0, 0, 0, ..., 0, 0, 0],\n",
       "        [0, 0, 0, ..., 0, 0, 0],\n",
       "        [0, 0, 0, ..., 0, 0, 0]],\n",
       "\n",
       "       [[0, 0, 0, ..., 0, 0, 0],\n",
       "        [0, 0, 0, ..., 0, 0, 0],\n",
       "        [0, 0, 0, ..., 0, 0, 0],\n",
       "        ..., \n",
       "        [0, 0, 0, ..., 0, 0, 0],\n",
       "        [0, 0, 0, ..., 0, 0, 0],\n",
       "        [0, 0, 0, ..., 0, 0, 0]]])"
      ]
     },
     "execution_count": 27,
     "metadata": {},
     "output_type": "execute_result"
    }
   ],
   "source": [
    "dilated_midsag.astype(int)"
   ]
  },
  {
   "cell_type": "code",
   "execution_count": 28,
   "metadata": {
    "collapsed": false
   },
   "outputs": [],
   "source": [
    "warped_midsag = mapping.transform_inverse(ndim.binary_dilation(midsag_data).astype(int), interpolation='nearest')\n",
    "warped_LOCC = mapping.transform_inverse(ndim.binary_dilation(LOCC_data).astype(int), interpolation='nearest')\n",
    "warped_ROCC = mapping.transform_inverse(ndim.binary_dilation(ROCC_data).astype(int), interpolation='nearest')\n"
   ]
  },
  {
   "cell_type": "code",
   "execution_count": 29,
   "metadata": {
    "collapsed": true
   },
   "outputs": [],
   "source": [
    "#bin_warped_LOCC = np.ceil(warped_LOCC)\n",
    "bin_warped_midsag = np.ceil(warped_midsag)"
   ]
  },
  {
   "cell_type": "code",
   "execution_count": 30,
   "metadata": {
    "collapsed": true
   },
   "outputs": [],
   "source": [
    "im = np.sum(np.ceil(bin_warped_midsag), axis=0)"
   ]
  },
  {
   "cell_type": "code",
   "execution_count": 31,
   "metadata": {
    "collapsed": false
   },
   "outputs": [
    {
     "data": {
      "text/plain": [
       "<matplotlib.image.AxesImage at 0x117829bd0>"
      ]
     },
     "execution_count": 31,
     "metadata": {},
     "output_type": "execute_result"
    },
    {
     "data": {
      "image/png": "[encoded data removed]",
      "text/plain": [
       "<matplotlib.figure.Figure at 0x11982c250>"
      ]
     },
     "metadata": {},
     "output_type": "display_data"
    }
   ],
   "source": [
    "plt.matshow(im)"
   ]
  },
  {
   "cell_type": "code",
   "execution_count": 32,
   "metadata": {
    "collapsed": true
   },
   "outputs": [],
   "source": [
    "import scipy.ndimage as ndim"
   ]
  },
  {
   "cell_type": "code",
   "execution_count": 33,
   "metadata": {
    "collapsed": false
   },
   "outputs": [],
   "source": [
    "#filled_warped_LOCC= ndim.binary_dilation(bin_warped_LOCC, iterations=1).astype(int)\n",
    "filled_warped_midsag= ndim.binary_fill_holes(bin_warped_midsag.astype(int)).astype(int)"
   ]
  },
  {
   "cell_type": "code",
   "execution_count": 34,
   "metadata": {
    "collapsed": false
   },
   "outputs": [
    {
     "data": {
      "text/plain": [
       "array([0, 1])"
      ]
     },
     "execution_count": 34,
     "metadata": {},
     "output_type": "execute_result"
    }
   ],
   "source": [
    "np.unique(filled_warped_midsag)"
   ]
  },
  {
   "cell_type": "code",
   "execution_count": 35,
   "metadata": {
    "collapsed": false
   },
   "outputs": [
    {
     "data": {
      "text/plain": [
       "(81, 106, 76)"
      ]
     },
     "execution_count": 35,
     "metadata": {},
     "output_type": "execute_result"
    }
   ],
   "source": [
    "filled_warped_midsag.shape"
   ]
  },
  {
   "cell_type": "code",
   "execution_count": 36,
   "metadata": {
    "collapsed": false
   },
   "outputs": [],
   "source": [
    "filled_warped_midsag_ni = nib.Nifti1Image(filled_warped_midsag, hardi_affine)"
   ]
  },
  {
   "cell_type": "code",
   "execution_count": 37,
   "metadata": {
    "collapsed": false
   },
   "outputs": [],
   "source": [
    "filled_warped_midsag_ni.to_filename('./warped_midsag.nii.gz')"
   ]
  },
  {
   "cell_type": "code",
   "execution_count": 38,
   "metadata": {
    "collapsed": true
   },
   "outputs": [],
   "source": [
    "im = np.sum(np.ceil(ndim.binary_fill_holes(filled_warped_midsag)), axis=0)"
   ]
  },
  {
   "cell_type": "code",
   "execution_count": 39,
   "metadata": {
    "collapsed": false
   },
   "outputs": [
    {
     "data": {
      "text/plain": [
       "<matplotlib.image.AxesImage at 0x101c01450>"
      ]
     },
     "execution_count": 39,
     "metadata": {},
     "output_type": "execute_result"
    },
    {
     "data": {
      "image/png": "[encoded data removed]",
      "text/plain": [
       "<matplotlib.figure.Figure at 0x117a386d0>"
      ]
     },
     "metadata": {},
     "output_type": "display_data"
    }
   ],
   "source": [
    "plt.matshow(im, cmap=cm.gray)"
   ]
  },
  {
   "cell_type": "code",
   "execution_count": 40,
   "metadata": {
    "collapsed": false
   },
   "outputs": [],
   "source": [
    "sl_from_file = nib.trackvis.read('./csa_white_matter.trk', points_space='rasmm')"
   ]
  },
  {
   "cell_type": "code",
   "execution_count": 41,
   "metadata": {
    "collapsed": false
   },
   "outputs": [],
   "source": [
    "all_sl = [s[0] for s in sl_from_file[0]]"
   ]
  },
  {
   "cell_type": "code",
   "execution_count": 42,
   "metadata": {
    "collapsed": false
   },
   "outputs": [],
   "source": [
    "xform_sl = [s for s in dtu.move_streamlines(all_sl, np.linalg.inv(hardi_affine)) if s.shape[0]>10]"
   ]
  },
  {
   "cell_type": "code",
   "execution_count": 43,
   "metadata": {
    "collapsed": false
   },
   "outputs": [
    {
     "data": {
      "text/plain": [
       "499293"
      ]
     },
     "execution_count": 43,
     "metadata": {},
     "output_type": "execute_result"
    }
   ],
   "source": [
    "len(xform_sl)"
   ]
  },
  {
   "cell_type": "code",
   "execution_count": 44,
   "metadata": {
    "collapsed": false
   },
   "outputs": [
    {
     "name": "stdout",
     "output_type": "stream",
     "text": [
      "162.786913872\n"
     ]
    }
   ],
   "source": [
    "select_sl = xform_sl\n",
    "ROIs = [warped_midsag, warped_LOCC, warped_ROCC]\n",
    "t0 = time.time()\n",
    "for r in ROIs:\n",
    "    select_sl = dts.select_by_rois(select_sl, [r.astype(bool)], [True])\n",
    "\n",
    "select_sl = list(select_sl)\n",
    "t1 = time.time()\n",
    "print(t1 - t0)"
   ]
  },
  {
   "cell_type": "code",
   "execution_count": 45,
   "metadata": {
    "collapsed": false
   },
   "outputs": [],
   "source": [
    "import dipy.tracking.streamline as dts"
   ]
  },
  {
   "cell_type": "code",
   "execution_count": 46,
   "metadata": {
    "collapsed": false
   },
   "outputs": [],
   "source": [
    "select_sl = dts.orient_by_rois(select_sl, ROIs[0], ROIs[1])"
   ]
  },
  {
   "cell_type": "code",
   "execution_count": 47,
   "metadata": {
    "collapsed": false
   },
   "outputs": [
    {
     "name": "stdout",
     "output_type": "stream",
     "text": [
      "0.000786066055298\n"
     ]
    }
   ],
   "source": [
    "t0 = time.time()\n",
    "select_sl = [s for s in select_sl]\n",
    "t1 = time.time()\n",
    "print(t1 - t0)"
   ]
  },
  {
   "cell_type": "code",
   "execution_count": 48,
   "metadata": {
    "collapsed": false
   },
   "outputs": [
    {
     "data": {
      "text/plain": [
       "3831"
      ]
     },
     "execution_count": 48,
     "metadata": {},
     "output_type": "execute_result"
    }
   ],
   "source": [
    "len(select_sl)"
   ]
  },
  {
   "cell_type": "code",
   "execution_count": 49,
   "metadata": {
    "collapsed": true
   },
   "outputs": [],
   "source": [
    "from dipy.viz import fvtk\n",
    "from dipy.viz.colormap import line_colors"
   ]
  },
  {
   "cell_type": "code",
   "execution_count": 50,
   "metadata": {
    "collapsed": false
   },
   "outputs": [],
   "source": [
    "ren = fvtk.ren()\n",
    "fvtk.add(ren, fvtk.line(select_sl, line_colors(select_sl)))\n",
    "fvtk.record(ren, n_frames=1, out_path='callosal_tracks.png', size=(600, 600))\n",
    "LOCC_ROI_actor = fvtk.contour(warped_LOCC, levels=[1], colors=[(1., 1., 0.)],\n",
    "                            opacities=[1.])\n",
    "\n",
    "#ROCC_ROI_actor = fvtk.contour(warped_ROCC, levels=[1], colors=[(1., 1., 0.)],\n",
    "#                            opacities=[1.])\n",
    "\n",
    "cc_ROI_actor = fvtk.contour(warped_midsag, levels=[1], colors=[(1., 1., 0.)],\n",
    "                            opacities=[1.])\n",
    "\n",
    "\n",
    "for act in [cc_ROI_actor, LOCC_ROI_actor]:#, ROCC_ROI_actor]:\n",
    "    fvtk.add(ren, act)\n",
    "\n",
    "fvtk.show(ren)"
   ]
  },
  {
   "cell_type": "code",
   "execution_count": 51,
   "metadata": {
    "collapsed": true
   },
   "outputs": [],
   "source": [
    "import IPython.display as display"
   ]
  },
  {
   "cell_type": "code",
   "execution_count": 52,
   "metadata": {
    "collapsed": false
   },
   "outputs": [
    {
     "data": {
      "image/png": "[encoded data removed]",
      "text/plain": [
       "<IPython.core.display.Image object>"
      ]
     },
     "execution_count": 52,
     "metadata": {},
     "output_type": "execute_result"
    }
   ],
   "source": [
    "display.Image(filename='callosal_tracks.png')"
   ]
  },
  {
   "cell_type": "code",
   "execution_count": 53,
   "metadata": {
    "collapsed": false
   },
   "outputs": [
    {
     "data": {
      "text/plain": [
       "3831"
      ]
     },
     "execution_count": 53,
     "metadata": {},
     "output_type": "execute_result"
    }
   ],
   "source": [
    "len(select_sl)"
   ]
  },
  {
   "cell_type": "code",
   "execution_count": 79,
   "metadata": {
    "collapsed": false
   },
   "outputs": [
    {
     "data": {
      "text/plain": [
       "(3831, 100, 3)"
      ]
     },
     "execution_count": 79,
     "metadata": {},
     "output_type": "execute_result"
    }
   ],
   "source": [
    "import dipy.tracking.streamlinespeed as speed\n",
    "\n",
    "fgarray = np.array(speed.set_number_of_points(select_sl, 100))\n",
    "\n",
    "fgarray.shape\n",
    "\n",
    "#fcore = np.median(fgarray,axis=0)\n",
    "#fcore.shape"
   ]
  },
  {
   "cell_type": "code",
   "execution_count": 74,
   "metadata": {
    "collapsed": true
   },
   "outputs": [],
   "source": [
    "import dipy.tracking.streamline as dts"
   ]
  },
  {
   "cell_type": "code",
   "execution_count": 75,
   "metadata": {
    "collapsed": false
   },
   "outputs": [
    {
     "data": {
      "text/plain": [
       "<module 'dipy.tracking.streamline' from '/Users/arokem/source/dipy/dipy/tracking/streamline.py'>"
      ]
     },
     "execution_count": 75,
     "metadata": {},
     "output_type": "execute_result"
    }
   ],
   "source": [
    "reload(dts)"
   ]
  },
  {
   "cell_type": "code",
   "execution_count": 76,
   "metadata": {
    "collapsed": false
   },
   "outputs": [],
   "source": [
    "from dipy.tracking.streamline import values_from_volume"
   ]
  },
  {
   "cell_type": "code",
   "execution_count": null,
   "metadata": {
    "collapsed": true
   },
   "outputs": [],
   "source": [
    "values_from_volume(b0, fgarray, affine=)"
   ]
  },
  {
   "cell_type": "code",
   "execution_count": 56,
   "metadata": {
    "collapsed": false
   },
   "outputs": [
    {
     "data": {
      "text/plain": [
       "(3831, 100, 3)"
      ]
     },
     "execution_count": 56,
     "metadata": {},
     "output_type": "execute_result"
    }
   ],
   "source": [
    "fgarray.shape"
   ]
  },
  {
   "cell_type": "code",
   "execution_count": 57,
   "metadata": {
    "collapsed": true
   },
   "outputs": [],
   "source": [
    "fvtk.line?"
   ]
  },
  {
   "cell_type": "code",
   "execution_count": 58,
   "metadata": {
    "collapsed": false
   },
   "outputs": [
    {
     "data": {
      "text/plain": [
       "array([[ 46.28879166,  21.84094238,  38.19010544],\n",
       "       [ 47.15712863,  22.56239918,  37.9429851 ],\n",
       "       [ 47.91000543,  23.41079025,  37.72555409],\n",
       "       [ 48.59187019,  24.31617824,  37.49560429],\n",
       "       [ 49.25463904,  25.23393412,  37.25914574],\n",
       "       [ 49.94175591,  26.15055486,  37.10285271],\n",
       "       [ 50.58691759,  27.10745634,  37.03668639],\n",
       "       [ 50.98179481,  28.17637754,  37.17255091],\n",
       "       [ 51.16559246,  29.30403515,  37.34824425],\n",
       "       [ 51.29448906,  30.44977343,  37.41850663],\n",
       "       [ 51.29267669,  31.6000877 ,  37.30991591],\n",
       "       [ 51.21774042,  32.72943419,  37.07990401],\n",
       "       [ 50.98668064,  33.80691456,  36.7316317 ],\n",
       "       [ 50.65366896,  34.86047829,  36.39210853],\n",
       "       [ 50.18277256,  35.87777507,  36.11390485],\n",
       "       [ 49.56652564,  36.81600494,  35.83733652],\n",
       "       [ 48.85356627,  37.67839853,  35.5479733 ],\n",
       "       [ 48.02515344,  38.4383559 ,  35.28492118],\n",
       "       [ 47.04728276,  38.95344509,  34.95876447],\n",
       "       [ 45.9795339 ,  39.31894369,  34.71099366],\n",
       "       [ 44.90754864,  39.72786905,  34.56637454],\n",
       "       [ 43.8213442 ,  40.09834602,  34.43113778],\n",
       "       [ 42.69555162,  40.32730808,  34.30173332],\n",
       "       [ 41.55279399,  40.4694165 ,  34.20066139],\n",
       "       [ 40.40025309,  40.45657272,  34.12416861],\n",
       "       [ 39.25393821,  40.30541248,  34.09961085],\n",
       "       [ 38.11252416,  40.12837874,  34.14005033],\n",
       "       [ 36.99238508,  39.86081213,  34.23981951],\n",
       "       [ 35.8955416 ,  39.54566576,  34.42109571],\n",
       "       [ 34.80928574,  39.21448278,  34.63777613],\n",
       "       [ 33.75628086,  38.75468363,  34.76476468],\n",
       "       [ 32.70436058,  38.27627744,  34.79767889],\n",
       "       [ 31.67940297,  37.74385981,  34.74830527],\n",
       "       [ 30.67568641,  37.21240992,  34.94601825],\n",
       "       [ 29.72569716,  36.68983448,  35.34133934],\n",
       "       [ 28.95783823,  35.98707785,  35.84104648],\n",
       "       [ 28.39931119,  35.08249099,  36.28611286],\n",
       "       [ 27.99473734,  34.03776054,  36.56531492],\n",
       "       [ 27.71974735,  32.92524682,  36.71230141],\n",
       "       [ 27.44562022,  31.8117526 ,  36.86006357],\n",
       "       [ 27.31469231,  30.68160288,  37.05569976],\n",
       "       [ 27.38124661,  29.57094398,  37.36798549],\n",
       "       [ 27.51214838,  28.44606804,  37.59893791],\n",
       "       [ 27.57663735,  27.29821037,  37.71996314],\n",
       "       [ 27.65032281,  26.14445715,  37.73898614],\n",
       "       [ 27.83031298,  25.00369781,  37.77359636],\n",
       "       [ 28.09693045,  23.8832825 ,  37.87748485],\n",
       "       [ 28.46088245,  22.79809608,  38.03752567],\n",
       "       [ 28.93611301,  21.77155005,  38.27227276],\n",
       "       [ 29.64033532,  20.91144713,  38.5820968 ],\n",
       "       [ 30.40745088,  20.10234445,  38.8332332 ],\n",
       "       [ 30.89487095,  19.17087599,  38.38972654],\n",
       "       [ 31.32919008,  18.34575699,  37.70816939],\n",
       "       [ 31.59166902,  17.61904439,  36.85132564],\n",
       "       [ 31.74407234,  17.05036772,  35.85857913],\n",
       "       [ 31.82005809,  16.71566322,  34.75613721],\n",
       "       [ 31.86471409,  16.75394688,  33.6099626 ],\n",
       "       [ 31.93818029,  17.17492231,  32.53759394],\n",
       "       [ 31.99499517,  17.75347764,  31.5404434 ],\n",
       "       [ 32.24269859,  18.42530947,  30.63355267],\n",
       "       [ 32.2885704 ,  19.27782711,  29.85587601],\n",
       "       [ 31.96121705,  20.26694956,  29.4975798 ],\n",
       "       [ 31.30125252,  21.21300983,  29.47648412],\n",
       "       [ 30.59331565,  22.12495109,  29.42283068],\n",
       "       [ 29.88664255,  23.04019379,  29.41821782],\n",
       "       [ 29.15422809,  23.92825987,  29.44573426],\n",
       "       [ 28.32126408,  24.71702339,  29.5879765 ],\n",
       "       [ 27.53860156,  25.53847055,  29.80996304],\n",
       "       [ 26.79936523,  26.36803066,  30.12829378],\n",
       "       [ 26.09696032,  27.23650407,  30.4280489 ],\n",
       "       [ 25.41226623,  28.14195401,  30.64672527],\n",
       "       [ 24.93427306,  29.18187951,  30.77673434],\n",
       "       [ 24.45381191,  30.23152509,  30.83750119],\n",
       "       [ 24.05011872,  31.31122648,  30.91999428],\n",
       "       [ 23.67940882,  32.39497719,  31.07834735],\n",
       "       [ 23.41806625,  33.51250859,  31.20830261],\n",
       "       [ 23.23923645,  34.63922306,  31.08031819],\n",
       "       [ 22.96958658,  35.67585067,  30.64791921],\n",
       "       [ 22.63450131,  36.71607163,  30.26998226],\n",
       "       [ 22.36344863,  37.78954107,  29.9364448 ],\n",
       "       [ 22.04158999,  38.80945224,  29.50379137],\n",
       "       [ 21.67608988,  39.82505117,  29.09465423],\n",
       "       [ 21.38335736,  40.87878938,  28.72038171],\n",
       "       [ 21.12494843,  41.91199569,  28.26952087],\n",
       "       [ 20.85229989,  42.91563395,  27.7658234 ],\n",
       "       [ 20.5561939 ,  43.89136013,  27.22012764],\n",
       "       [ 20.27311141,  44.89754108,  26.72611436],\n",
       "       [ 20.02297382,  45.97612633,  26.40099475],\n",
       "       [ 19.99407546,  47.09189489,  26.11508709],\n",
       "       [ 20.12520607,  48.20536373,  25.83653027],\n",
       "       [ 20.40832914,  49.31372307,  25.67150188],\n",
       "       [ 20.7862232 ,  50.388013  ,  25.47290788],\n",
       "       [ 21.10661519,  51.45999715,  25.19180114],\n",
       "       [ 21.47198037,  52.52745022,  24.95822981],\n",
       "       [ 22.26667966,  53.28498776,  25.19859742],\n",
       "       [ 23.11862342,  53.94501197,  25.61764139],\n",
       "       [ 24.01559737,  54.58314857,  25.97068993],\n",
       "       [ 24.93535363,  55.20800069,  26.28844867],\n",
       "       [ 25.83692275,  55.70898902,  26.79545308],\n",
       "       [ 26.65026474,  55.93307114,  27.57834435]])"
      ]
     },
     "execution_count": 58,
     "metadata": {},
     "output_type": "execute_result"
    }
   ],
   "source": [
    "fgarray[0]"
   ]
  },
  {
   "cell_type": "code",
   "execution_count": 59,
   "metadata": {
    "collapsed": false
   },
   "outputs": [],
   "source": [
    "ren = fvtk.ren()\n",
    "fvtk.add(ren, fvtk.line([s for s in fgarray], [0, .5, 1],opacity=.1))\n",
    "fvtk.add(ren, fvtk.line(fcore, [1, 1, 0],opacity=1, linewidth = 5))\n",
    "LOCC_ROI_actor = fvtk.contour(warped_LOCC, levels=[1], colors=[(1., 1., 0.)],\n",
    "                            opacities=[1.])\n",
    "\n",
    "#ROCC_ROI_actor = fvtk.contour(warped_ROCC, levels=[1], colors=[(1., 1., 0.)],\n",
    "#                            opacities=[1.])\n",
    "\n",
    "cc_ROI_actor = fvtk.contour(warped_midsag, levels=[1], colors=[(1., 1., 0.)],\n",
    "                            opacities=[1.])\n",
    "\n",
    "\n",
    "for act in [cc_ROI_actor, LOCC_ROI_actor]:#, ROCC_ROI_actor]:\n",
    "    fvtk.add(ren, act)\n",
    "\n",
    "    fvtk.record(ren, n_frames=1, out_path='callosal_core.png', size=(600, 600))\n",
    "\n",
    "fvtk.show(ren)"
   ]
  },
  {
   "cell_type": "code",
   "execution_count": 60,
   "metadata": {
    "collapsed": false
   },
   "outputs": [
    {
     "data": {
      "image/png": "[encoded data removed]",
      "text/plain": [
       "<IPython.core.display.Image object>"
      ]
     },
     "execution_count": 60,
     "metadata": {},
     "output_type": "execute_result"
    }
   ],
   "source": [
    "display.Image(filename='callosal_core.png')"
   ]
  },
  {
   "cell_type": "code",
   "execution_count": 61,
   "metadata": {
    "collapsed": true
   },
   "outputs": [],
   "source": [
    "if not os.path.exists('fa.nii.gz'):\n",
    "    import dipy.reconst.dti as dti\n",
    "    dtmodel = dti.TensorModel(gtab)\n",
    "    dtfit = dtmodel.fit(hardi_data)\n",
    "    FAdata = dtfit.fa\n",
    "    FAimg = nib.Nifti1Image(FAdata, hardi_affine)\n",
    "    nib.save(FAimg, 'fa.nii.gz')\n",
    "else:\n",
    "    FAimg = nib.load('fa.nii.gz')\n",
    "    FAdata = FAimg.get_data()"
   ]
  },
  {
   "cell_type": "code",
   "execution_count": 62,
   "metadata": {
    "collapsed": false
   },
   "outputs": [
    {
     "data": {
      "text/plain": [
       "array([[   2.,    0.,    0.,  -80.],\n",
       "       [   0.,    2.,    0., -120.],\n",
       "       [   0.,    0.,    2.,  -60.],\n",
       "       [   0.,    0.,    0.,    1.]])"
      ]
     },
     "execution_count": 62,
     "metadata": {},
     "output_type": "execute_result"
    }
   ],
   "source": [
    "FAimg.affine"
   ]
  },
  {
   "cell_type": "code",
   "execution_count": 63,
   "metadata": {
    "collapsed": true
   },
   "outputs": [],
   "source": [
    "from scipy.interpolate import RegularGridInterpolator"
   ]
  },
  {
   "cell_type": "code",
   "execution_count": 64,
   "metadata": {
    "collapsed": true
   },
   "outputs": [],
   "source": [
    "from dipy.align.vector_fields import interpolate_scalar_3d"
   ]
  },
  {
   "cell_type": "code",
   "execution_count": 65,
   "metadata": {
    "collapsed": true
   },
   "outputs": [],
   "source": [
    "interpolate_scalar_3d?"
   ]
  },
  {
   "cell_type": "code",
   "execution_count": 66,
   "metadata": {
    "collapsed": true
   },
   "outputs": [],
   "source": [
    "import nibabel as nib\n",
    "import numpy as np"
   ]
  },
  {
   "cell_type": "code",
   "execution_count": 67,
   "metadata": {
    "collapsed": false
   },
   "outputs": [],
   "source": [
    "img = nib.Nifti1Image(np.arange(2000, dtype=np.float).reshape(20, 10, 10), np.eye(4))"
   ]
  },
  {
   "cell_type": "code",
   "execution_count": 68,
   "metadata": {
    "collapsed": false
   },
   "outputs": [],
   "source": [
    "data = img.get_data()"
   ]
  },
  {
   "cell_type": "code",
   "execution_count": 69,
   "metadata": {
    "collapsed": false
   },
   "outputs": [
    {
     "data": {
      "text/plain": [
       "dtype('float64')"
      ]
     },
     "execution_count": 69,
     "metadata": {},
     "output_type": "execute_result"
    }
   ],
   "source": [
    "data.dtype\n"
   ]
  },
  {
   "cell_type": "code",
   "execution_count": 71,
   "metadata": {
    "collapsed": false
   },
   "outputs": [
    {
     "ename": "ImportError",
     "evalue": "cannot import name values_from_volume",
     "output_type": "error",
     "traceback": [
      "\u001b[0;31m---------------------------------------------------------------------------\u001b[0m",
      "\u001b[0;31mImportError\u001b[0m                               Traceback (most recent call last)",
      "\u001b[0;32m<ipython-input-71-56c1e79ed69d>\u001b[0m in \u001b[0;36m<module>\u001b[0;34m()\u001b[0m\n\u001b[0;32m----> 1\u001b[0;31m \u001b[0;32mfrom\u001b[0m \u001b[0mdipy\u001b[0m\u001b[0;34m.\u001b[0m\u001b[0mtracking\u001b[0m\u001b[0;34m.\u001b[0m\u001b[0mstreamline\u001b[0m \u001b[0;32mimport\u001b[0m \u001b[0mvalues_from_volume\u001b[0m\u001b[0;34m\u001b[0m\u001b[0m\n\u001b[0m",
      "\u001b[0;31mImportError\u001b[0m: cannot import name values_from_volume"
     ]
    }
   ],
   "source": [
    "import values_from_volume"
   ]
  },
  {
   "cell_type": "code",
   "execution_count": 108,
   "metadata": {
    "collapsed": false
   },
   "outputs": [],
   "source": [
    "fgarray = np.array(speed.set_number_of_points(select_sl, 100))\n",
    "values = values_from_volume(FAdata, fgarray, affine=None)\n",
    "w = np.ones(values.shape) / values.shape[0]"
   ]
  },
  {
   "cell_type": "code",
   "execution_count": 116,
   "metadata": {
    "collapsed": false
   },
   "outputs": [
    {
     "data": {
      "text/plain": [
       "(3831, 100)"
      ]
     },
     "execution_count": 116,
     "metadata": {},
     "output_type": "execute_result"
    }
   ],
   "source": [
    "w.shape"
   ]
  },
  {
   "cell_type": "code",
   "execution_count": 117,
   "metadata": {
    "collapsed": false
   },
   "outputs": [],
   "source": [
    "tract_profile = np.sum(w * values, 0)"
   ]
  },
  {
   "cell_type": "code",
   "execution_count": null,
   "metadata": {
    "collapsed": false
   },
   "outputs": [],
   "source": []
  },
  {
   "cell_type": "code",
   "execution_count": 118,
   "metadata": {
    "collapsed": false
   },
   "outputs": [
    {
     "data": {
      "text/plain": [
       "[<matplotlib.lines.Line2D at 0x1e10d1690>]"
      ]
     },
     "execution_count": 118,
     "metadata": {},
     "output_type": "execute_result"
    },
    {
     "data": {
      "image/png": "[encoded data removed]",
      "text/plain": [
       "<matplotlib.figure.Figure at 0x1e141b1d0>"
      ]
     },
     "metadata": {},
     "output_type": "display_data"
    }
   ],
   "source": [
    "plt.plot(tract_profile)"
   ]
  },
  {
   "cell_type": "code",
   "execution_count": 92,
   "metadata": {
    "collapsed": false
   },
   "outputs": [
    {
     "data": {
      "text/plain": [
       "[<matplotlib.lines.Line2D at 0x1e11a8790>]"
      ]
     },
     "execution_count": 92,
     "metadata": {},
     "output_type": "execute_result"
    },
    {
     "data": {
      "image/png": "[encoded data removed]",
      "text/plain": [
       "<matplotlib.figure.Figure at 0x1c24af490>"
      ]
     },
     "metadata": {},
     "output_type": "display_data"
    }
   ],
   "source": [
    "%matplotlib inline\n",
    "plt.plot(np.mean(values, 0))"
   ]
  },
  {
   "cell_type": "code",
   "execution_count": 119,
   "metadata": {
    "collapsed": false
   },
   "outputs": [
    {
     "data": {
      "text/plain": [
       "(3831, 100, 3)"
      ]
     },
     "execution_count": 119,
     "metadata": {},
     "output_type": "execute_result"
    }
   ],
   "source": [
    "fgarray.shape"
   ]
  },
  {
   "cell_type": "code",
   "execution_count": 125,
   "metadata": {
    "collapsed": false
   },
   "outputs": [
    {
     "data": {
      "text/plain": [
       "array([[  7.79696493,   2.73080157,   2.7134098 ],\n",
       "       [  2.73080157,  18.59148405,  -0.16630518],\n",
       "       [  2.7134098 ,  -0.16630518,  48.61044694]])"
      ]
     },
     "execution_count": 125,
     "metadata": {},
     "output_type": "execute_result"
    }
   ],
   "source": []
  },
  {
   "cell_type": "code",
   "execution_count": 123,
   "metadata": {
    "collapsed": false
   },
   "outputs": [
    {
     "data": {
      "text/plain": [
       "array([[ 8487139.64080319,  3793980.19013384,  7344281.52260756],\n",
       "       [ 3793980.19013384,  1763834.39140575,  3280315.58525439],\n",
       "       [ 7344281.52260756,  3280315.58525439,  6545899.77212253]])"
      ]
     },
     "execution_count": 123,
     "metadata": {},
     "output_type": "execute_result"
    }
   ],
   "source": [
    "import scipy.stats as stat"
   ]
  },
  {
   "cell_type": "code",
   "execution_count": null,
   "metadata": {
    "collapsed": true
   },
   "outputs": [],
   "source": [
    "#def gaussian_weights(fgarray)\n",
    "\n",
    "for ii in range(fgarray.shape[1]):\n",
    "    cov = np.cov(fgarray[:, ii, :].T) "
   ]
  },
  {
   "cell_type": "code",
   "execution_count": 134,
   "metadata": {
    "collapsed": false
   },
   "outputs": [],
   "source": [
    "import dipy.tracking.streamlinespeed as speed\n",
    "\n",
    "def calculate_tract_profile(img, streamlines, affine=None, n_points=100, \n",
    "                            weighting=None):\n",
    "    \"\"\" \n",
    "    \n",
    "    Parameters\n",
    "    ---------- \n",
    "    img : 3D volume\n",
    "    \n",
    "    streamlines : list of arrays, or array\n",
    "    \n",
    "    weighting : 1D array, or str (optional)\n",
    "    \n",
    "        'gaussian'\n",
    "        'distance'\n",
    "        'uniform' (default)\n",
    "    \n",
    "    \"\"\"\n",
    "    if isinstance(streamlines, list):\n",
    "        # Resample each streamline to the same number of points \n",
    "        # list => array\n",
    "        fgarray = np.array(speed.set_number_of_points(streamlines, n_points))\n",
    "\n",
    "    values = values_from_volume(img, fgarray, affine=affine)\n",
    "    \n",
    "    # We assume that weights *always sum to 1 across streamlines*:\n",
    "    if weighting is None: \n",
    "        w = np.ones(values.shape) / values.shape[0]\n",
    "        \n",
    "    #elif weighting == 'gaussian':\n",
    "    #    w = gaussian_weights(fgarray)\n",
    "    \n",
    "    #elif weighting == 'distance':\n",
    "\n",
    "    tract_profile = np.sum(w * values, 0)\n",
    "\n",
    "    #tract_profile = np.mean(w * values, 0)\n",
    "    \n",
    "    if weighting is not None:\n",
    "        return weights, tract_profile\n",
    "    else: \n",
    "        return tract_profile    "
   ]
  },
  {
   "cell_type": "code",
   "execution_count": 135,
   "metadata": {
    "collapsed": false
   },
   "outputs": [],
   "source": [
    "tract_profile = calculate_tract_profile(FAdata, select_sl)"
   ]
  },
  {
   "cell_type": "code",
   "execution_count": 136,
   "metadata": {
    "collapsed": false
   },
   "outputs": [
    {
     "data": {
      "text/plain": [
       "[<matplotlib.lines.Line2D at 0x1d5990150>]"
      ]
     },
     "execution_count": 136,
     "metadata": {},
     "output_type": "execute_result"
    },
    {
     "data": {
      "image/png": "[encoded data removed]",
      "text/plain": [
       "<matplotlib.figure.Figure at 0x1d1ae6c90>"
      ]
     },
     "metadata": {},
     "output_type": "display_data"
    }
   ],
   "source": [
    "plt.plot(tract_profile)"
   ]
  },
  {
   "cell_type": "code",
   "execution_count": null,
   "metadata": {
    "collapsed": true
   },
   "outputs": [],
   "source": [
    "affine = np.array([[0.5, 0, 0, 10], [0, 0.5, 0, -10], [0, 0, 0.5, 0], [0, 0, 0, 1]])"
   ]
  },
  {
   "cell_type": "code",
   "execution_count": null,
   "metadata": {
    "collapsed": false
   },
   "outputs": [],
   "source": [
    "xform_streamlines = dtu.move_streamlines(streamlines, affine)"
   ]
  },
  {
   "cell_type": "code",
   "execution_count": null,
   "metadata": {
    "collapsed": false
   },
   "outputs": [],
   "source": [
    "streamlines"
   ]
  },
  {
   "cell_type": "code",
   "execution_count": null,
   "metadata": {
    "collapsed": false
   },
   "outputs": [],
   "source": [
    "list(xform_streamlines)"
   ]
  },
  {
   "cell_type": "code",
   "execution_count": null,
   "metadata": {
    "collapsed": false
   },
   "outputs": [],
   "source": [
    "vv = vals_from_img(img, np.array(streamlines), sl_affine=affine)"
   ]
  },
  {
   "cell_type": "code",
   "execution_count": null,
   "metadata": {
    "collapsed": false
   },
   "outputs": [],
   "source": [
    "vv"
   ]
  },
  {
   "cell_type": "code",
   "execution_count": null,
   "metadata": {
    "collapsed": false
   },
   "outputs": [],
   "source": [
    "debug"
   ]
  },
  {
   "cell_type": "code",
   "execution_count": null,
   "metadata": {
    "collapsed": false
   },
   "outputs": [],
   "source": [
    "vv[0][0]"
   ]
  },
  {
   "cell_type": "code",
   "execution_count": null,
   "metadata": {
    "collapsed": false
   },
   "outputs": [],
   "source": [
    "debug"
   ]
  },
  {
   "cell_type": "code",
   "execution_count": null,
   "metadata": {
    "collapsed": true
   },
   "outputs": [],
   "source": [
    "np.array([[1, 0, 0], [1.5, 0, 0], [2, 0, 0]])"
   ]
  },
  {
   "cell_type": "code",
   "execution_count": null,
   "metadata": {
    "collapsed": true
   },
   "outputs": [],
   "source": [
    "import dipy.align.vector_fields as vfu"
   ]
  },
  {
   "cell_type": "code",
   "execution_count": null,
   "metadata": {
    "collapsed": false
   },
   "outputs": [],
   "source": [
    "np.random.seed(3121121)\n",
    "sz = 64\n",
    "target_shape = (sz, sz, sz)\n",
    "image = np.empty(target_shape)\n",
    "image[...] = np.random.randint(0, 10, np.size(image)).reshape(target_shape)\n",
    "# Select some coordinates to interpolate at\n",
    "nsamples = 200\n",
    "locations =\\\n",
    "    np.random.ranf(3 * nsamples).reshape((nsamples, 3)) * (sz + 2) - 1.0\n",
    "\n",
    "# Call the implementation under test\n",
    "interp, inside = vfu.interpolate_scalar_3d(image, locations)\n"
   ]
  },
  {
   "cell_type": "code",
   "execution_count": null,
   "metadata": {
    "collapsed": true
   },
   "outputs": [],
   "source": [
    "vfu.interpolate_scalar_nn_3d?"
   ]
  },
  {
   "cell_type": "code",
   "execution_count": null,
   "metadata": {
    "collapsed": false
   },
   "outputs": [],
   "source": [
    "image.shape"
   ]
  },
  {
   "cell_type": "code",
   "execution_count": null,
   "metadata": {
    "collapsed": false
   },
   "outputs": [],
   "source": [
    "interp[0]"
   ]
  },
  {
   "cell_type": "code",
   "execution_count": null,
   "metadata": {
    "collapsed": true
   },
   "outputs": [],
   "source": [
    "data = np.arange(2000).reshape(20, 10, 10)"
   ]
  },
  {
   "cell_type": "code",
   "execution_count": null,
   "metadata": {
    "collapsed": false
   },
   "outputs": [],
   "source": [
    "\n",
    "data[1.5, 0, 0]"
   ]
  },
  {
   "cell_type": "code",
   "execution_count": null,
   "metadata": {
    "collapsed": true
   },
   "outputs": [],
   "source": []
  }
 ],
 "metadata": {
  "kernelspec": {
   "display_name": "Python 2",
   "language": "python",
   "name": "python2"
  },
  "language_info": {
   "codemirror_mode": {
    "name": "ipython",
    "version": 2
   },
   "file_extension": ".py",
   "mimetype": "text/x-python",
   "name": "python",
   "nbconvert_exporter": "python",
   "pygments_lexer": "ipython2",
   "version": "2.7.11"
  }
 },
 "nbformat": 4,
 "nbformat_minor": 0
}
