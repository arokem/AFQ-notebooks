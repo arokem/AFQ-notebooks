{
 "cells": [
  {
   "cell_type": "code",
   "execution_count": 9,
   "metadata": {
    "collapsed": true
   },
   "outputs": [],
   "source": [
    "import numpy as np\n",
    "import nibabel as nib\n",
    "import dipy.reconst.dti as dti\n",
    "from dipy.data import fetch_stanford_hardi, read_stanford_hardi\n",
    "from dipy.reconst.dti import quantize_evecs\n",
    "from dipy.data import get_sphere\n",
    "from dipy.reconst.dti import fractional_anisotropy, color_fa, lower_triangular\n",
    "from dipy.segment.mask import median_otsu\n",
    "from dipy.tracking.eudx import EuDX\n",
    "from dipy.io.trackvis import save_trk\n"
   ]
  },
  {
   "cell_type": "code",
   "execution_count": 3,
   "metadata": {
    "collapsed": false
   },
   "outputs": [],
   "source": [
    "img, gtab = read_stanford_hardi()\n",
    "data = img.get_data()"
   ]
  },
  {
   "cell_type": "code",
   "execution_count": 4,
   "metadata": {
    "collapsed": true
   },
   "outputs": [],
   "source": [
    "maskdata, mask = median_otsu(data, 3, 1, True,\n",
    "                             vol_idx=range(10, 50), dilate=2)"
   ]
  },
  {
   "cell_type": "code",
   "execution_count": 5,
   "metadata": {
    "collapsed": true
   },
   "outputs": [],
   "source": [
    "tenmodel = dti.TensorModel(gtab)\n",
    "tenfit = tenmodel.fit(maskdata)"
   ]
  },
  {
   "cell_type": "code",
   "execution_count": 6,
   "metadata": {
    "collapsed": true
   },
   "outputs": [],
   "source": [
    "FA = fractional_anisotropy(tenfit.evals)\n",
    "FA[np.isnan(FA)] = 0\n",
    "evecs = tenfit.evecs\n",
    "fa_img = nib.Nifti1Image(FA.astype(np.float32), img.get_affine())"
   ]
  },
  {
   "cell_type": "code",
   "execution_count": 7,
   "metadata": {
    "collapsed": false
   },
   "outputs": [
    {
     "name": "stderr",
     "output_type": "stream",
     "text": [
      "/Users/arokem/source/dipy/dipy/reconst/dti.py:1802: FutureWarning: comparison to `None` will result in an elementwise object comparison in the future.\n",
      "  if odf_vertices == None:\n"
     ]
    }
   ],
   "source": [
    "sphere = get_sphere('symmetric724')\n",
    "peak_indices = quantize_evecs(evecs, sphere.vertices)\n",
    "eu = EuDX(FA.astype('f8'), peak_indices, seeds=5000000, odf_vertices = sphere.vertices, a_low=0.2)\n",
    "\n",
    "tensor_streamlines = [streamline for streamline in eu]"
   ]
  },
  {
   "cell_type": "code",
   "execution_count": 14,
   "metadata": {
    "collapsed": false
   },
   "outputs": [],
   "source": [
    "#save_trk(\"./tensor_streamlines.trk\", tensor_streamlines, fa_img.get_affine(), FA.shape)"
   ]
  },
  {
   "cell_type": "code",
   "execution_count": 13,
   "metadata": {
    "collapsed": false
   },
   "outputs": [
    {
     "data": {
      "text/plain": [
       "976845"
      ]
     },
     "execution_count": 13,
     "metadata": {},
     "output_type": "execute_result"
    }
   ],
   "source": [
    "len(tensor_streamlines)"
   ]
  },
  {
   "cell_type": "code",
   "execution_count": 22,
   "metadata": {
    "collapsed": false
   },
   "outputs": [],
   "source": [
    "hdr = nib.trackvis.empty_header()\n",
    "hdr['voxel_size'] = img.get_header().get_zooms()[:3]\n",
    "hdr['voxel_order'] = 'RAS'\n",
    "hdr['dim'] = FA.shape\n",
    "hdr['vox_to_ras'] = img.get_affine()\n",
    "tensor_streamlines_trk = ((sl, None, None) for sl in tensor_streamlines)\n",
    "ten_sl_fname = 'tensor_streamlines.trk'\n",
    "nib.trackvis.write(ten_sl_fname, tensor_streamlines_trk, hdr, points_space='rasmm')"
   ]
  },
  {
   "cell_type": "code",
   "execution_count": 19,
   "metadata": {
    "collapsed": false
   },
   "outputs": [
    {
     "data": {
      "text/plain": [
       "array(('TRACK', [71, 87, 62], [2.0, 2.0, 2.0], [0.0, 0.0, 0.0], 0, ['', '', '', '', '', '', '', '', '', ''], 0, ['', '', '', '', '', '', '', '', '', ''], [[0.0, 0.0, 0.0, 0.0], [0.0, 0.0, 0.0, 0.0], [0.0, 0.0, 0.0, 0.0], [0.0, 0.0, 0.0, 0.0]], '', 'RAS', '', [0.0, 0.0, 0.0, 0.0, 0.0, 0.0], '', '', '', '', '', '', '', 0, 2, 1000), \n",
       "      dtype=[('id_string', 'S6'), ('dim', '<i2', (3,)), ('voxel_size', '<f4', (3,)), ('origin', '<f4', (3,)), ('n_scalars', '<i2'), ('scalar_name', 'S20', (10,)), ('n_properties', '<i2'), ('property_name', 'S20', (10,)), ('vox_to_ras', '<f4', (4, 4)), ('reserved', 'S444'), ('voxel_order', 'S4'), ('pad2', 'S4'), ('image_orientation_patient', '<f4', (6,)), ('pad1', 'S2'), ('invert_x', 'S1'), ('invert_y', 'S1'), ('invert_z', 'S1'), ('swap_xy', 'S1'), ('swap_yz', 'S1'), ('swap_zx', 'S1'), ('n_count', '<i4'), ('version', '<i4'), ('hdr_size', '<i4')])"
      ]
     },
     "execution_count": 19,
     "metadata": {},
     "output_type": "execute_result"
    }
   ],
   "source": [
    "hdr"
   ]
  },
  {
   "cell_type": "code",
   "execution_count": 11,
   "metadata": {
    "collapsed": false
   },
   "outputs": [
    {
     "data": {
      "text/plain": [
       "977007"
      ]
     },
     "execution_count": 11,
     "metadata": {},
     "output_type": "execute_result"
    }
   ],
   "source": [
    "len(tensor_streamlines)"
   ]
  },
  {
   "cell_type": "code",
   "execution_count": 12,
   "metadata": {
    "collapsed": false
   },
   "outputs": [
    {
     "data": {
      "text/plain": [
       "array([[ 26.4841423 ,  38.62833023,  55.76271439],\n",
       "       [ 26.57774162,  38.49172211,  55.29093552],\n",
       "       [ 26.64459229,  38.38281631,  54.80754089],\n",
       "       [ 26.67384911,  38.28636551,  54.31780243],\n",
       "       [ 26.67930412,  38.199646  ,  53.82541275],\n",
       "       [ 26.65811348,  38.11829758,  53.33252716],\n",
       "       [ 26.60972404,  38.04495239,  52.84030914],\n",
       "       [ 26.54303741,  37.99626923,  52.3471756 ],\n",
       "       [ 26.45503044,  37.96047974,  51.8562851 ],\n",
       "       [ 26.32678413,  37.92443085,  51.37435532],\n",
       "       [ 26.16465759,  37.89036942,  50.90259933],\n",
       "       [ 25.99437714,  37.88658905,  50.43250275],\n",
       "       [ 25.81068993,  37.91730118,  49.96848297],\n",
       "       [ 25.60430717,  37.9600296 ,  49.51507187],\n",
       "       [ 25.38165474,  38.02501678,  49.07212448],\n",
       "       [ 25.16344643,  38.09794235,  48.62820435],\n",
       "       [ 24.94886398,  38.17311859,  48.18289185],\n",
       "       [ 24.7429409 ,  38.25121307,  47.73400497],\n",
       "       [ 24.54547119,  38.33713531,  47.28276062],\n",
       "       [ 24.36642075,  38.44501495,  46.82855606],\n",
       "       [ 24.2315464 ,  38.60185242,  46.37335205],\n",
       "       [ 24.14370537,  38.82037354,  45.93229294],\n",
       "       [ 24.07652092,  39.07571793,  45.50769424],\n",
       "       [ 24.02395821,  39.34848022,  45.09195328],\n",
       "       [ 23.98945999,  39.61047745,  44.66749191],\n",
       "       [ 23.97363091,  39.85165405,  44.22978973],\n",
       "       [ 23.97454834,  40.06808472,  43.77906036],\n",
       "       [ 23.98659134,  40.24941254,  43.31325531],\n",
       "       [ 24.00270653,  40.40057373,  42.83692551],\n",
       "       [ 24.01823044,  40.55133438,  42.36044693],\n",
       "       [ 24.03686523,  40.6929245 ,  41.88127518],\n",
       "       [ 24.06965828,  40.79943085,  41.39385223],\n",
       "       [ 24.11989784,  40.8843956 ,  40.90369415],\n",
       "       [ 24.19494057,  40.98794556,  40.42032242],\n",
       "       [ 24.29132271,  41.09959793,  39.94257355],\n",
       "       [ 24.39356995,  41.21032715,  39.46583176],\n",
       "       [ 24.52283669,  41.31397247,  38.9940834 ],\n",
       "       [ 24.6780262 ,  41.41601562,  38.52985764],\n",
       "       [ 24.83321571,  41.51805496,  38.06563568],\n",
       "       [ 25.0146122 ,  41.60752869,  37.60837173],\n",
       "       [ 25.17758369,  41.69558716,  37.14395142],\n",
       "       [ 25.31911469,  41.82216263,  36.68140793],\n",
       "       [ 25.46059608,  41.945755  ,  36.21804047],\n",
       "       [ 25.59143639,  42.03065109,  35.74298859]])"
      ]
     },
     "execution_count": 12,
     "metadata": {},
     "output_type": "execute_result"
    }
   ],
   "source": [
    "tensor_streamlines[0]"
   ]
  },
  {
   "cell_type": "code",
   "execution_count": null,
   "metadata": {
    "collapsed": true
   },
   "outputs": [],
   "source": []
  }
 ],
 "metadata": {
  "kernelspec": {
   "display_name": "Python 2",
   "language": "python",
   "name": "python2"
  },
  "language_info": {
   "codemirror_mode": {
    "name": "ipython",
    "version": 2
   },
   "file_extension": ".py",
   "mimetype": "text/x-python",
   "name": "python",
   "nbconvert_exporter": "python",
   "pygments_lexer": "ipython2",
   "version": "2.7.10"
  }
 },
 "nbformat": 4,
 "nbformat_minor": 0
}
